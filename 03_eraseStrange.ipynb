{
 "cells": [
  {
   "cell_type": "code",
   "execution_count": 1,
   "id": "e30ba1a3-734f-448d-ae80-5c7c17dfc01b",
   "metadata": {},
   "outputs": [],
   "source": [
    "import os, glob, pickle\n",
    "import pandas as pd"
   ]
  },
  {
   "cell_type": "code",
   "execution_count": 2,
   "id": "e0cfd118-8aec-4975-bb09-8acfb2f63a0e",
   "metadata": {},
   "outputs": [],
   "source": [
    "def eraseStop(txt):\n",
    "    nouns = []\n",
    "    for noun in txt:\n",
    "        if noun not in stopwords:\n",
    "            nouns.append(noun)\n",
    "    return nouns"
   ]
  },
  {
   "cell_type": "code",
   "execution_count": 3,
   "id": "39b91349-6ab6-411f-a919-f383a1f80ca2",
   "metadata": {},
   "outputs": [],
   "source": [
    "def eraseOne(nouns):\n",
    "    words = []\n",
    "    for noun in nouns:\n",
    "        if len(noun) > 1:\n",
    "            words.append(noun)\n",
    "    return words"
   ]
  },
  {
   "cell_type": "code",
   "execution_count": 4,
   "id": "74d87912-c7e8-4505-9fd7-679a89aee896",
   "metadata": {},
   "outputs": [],
   "source": [
    "# Stopwords\n",
    "stopwords_fname = 'C:\\\\Users\\\\user\\\\Documents\\\\crawling_KCI\\\\korean_stopwords.txt'\n",
    "stopwords = pd.read_csv(stopwords_fname, names=['stopword'], usecols=['stopword'])"
   ]
  },
  {
   "cell_type": "code",
   "execution_count": 5,
   "id": "1f6de233-b2dc-449b-8b8f-c7e2218da35f",
   "metadata": {},
   "outputs": [],
   "source": [
    "fpath = 'C:\\\\Users\\\\user\\\\Documents\\\\crawling_KCI\\\\탄소지중'"
   ]
  },
  {
   "cell_type": "code",
   "execution_count": 6,
   "id": "5b31d2db-bade-4c32-915f-cf790756b8e9",
   "metadata": {},
   "outputs": [],
   "source": [
    "flist = glob.glob(os.path.join(fpath, '*_Komoran.pkl'))"
   ]
  },
  {
   "cell_type": "code",
   "execution_count": 7,
   "id": "accc1225-1500-43d8-8c2d-cf8c653873ee",
   "metadata": {},
   "outputs": [
    {
     "name": "stdout",
     "output_type": "stream",
     "text": [
      "100% processing"
     ]
    }
   ],
   "source": [
    "i = 1\n",
    "for fname in flist:\n",
    "    \n",
    "    txt = pickle.load(open(fname, 'rb'))\n",
    "    nouns = eraseStop(txt)\n",
    "    words = eraseOne(nouns)\n",
    "    \n",
    "    oname = fname.replace('.pkl', '_strg.pkl')\n",
    "    pickle.dump(words, open(oname, 'wb'))\n",
    "    \n",
    "    print('\\r%d%% processing' %((i/len(flist))*100), end='')\n",
    "        \n",
    "    i += 1"
   ]
  },
  {
   "cell_type": "code",
   "execution_count": null,
   "id": "e4979aa5-7018-4d01-9cb4-33f7c297de5c",
   "metadata": {},
   "outputs": [],
   "source": []
  }
 ],
 "metadata": {
  "kernelspec": {
   "display_name": "Python 3",
   "language": "python",
   "name": "python3"
  },
  "language_info": {
   "codemirror_mode": {
    "name": "ipython",
    "version": 3
   },
   "file_extension": ".py",
   "mimetype": "text/x-python",
   "name": "python",
   "nbconvert_exporter": "python",
   "pygments_lexer": "ipython3",
   "version": "3.8.10"
  }
 },
 "nbformat": 4,
 "nbformat_minor": 5
}
