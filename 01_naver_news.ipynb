{
 "cells": [
  {
   "cell_type": "code",
   "execution_count": 4,
   "metadata": {},
   "outputs": [],
   "source": [
    "from bs4 import BeautifulSoup\n",
    "import requests\n",
    "import re\n",
    "import time\n",
    "from selenium import webdriver\n",
    "import pandas as pd\n",
    "import datetime\n",
    "import pickle"
   ]
  },
  {
   "cell_type": "code",
   "execution_count": 5,
   "metadata": {},
   "outputs": [],
   "source": [
    "def makePgNum(num):\n",
    "    if num == 1:\n",
    "        return num\n",
    "    elif num == 0:\n",
    "        return num+1\n",
    "    else:\n",
    "        return num+9*(num-1)\n",
    "\n",
    "\n",
    "# 크롤링할 url 생성하는 함수 만들기(검색어, 크롤링 시작 페이지, 크롤링 종료 페이지)\n",
    "def makeUrl(keyword,start_pg,end_pg,target_date):\n",
    "    if start_pg == end_pg:\n",
    "        start_page = makePgNum(start_pg)\n",
    "        url=\"https://search.naver.com/search.naver?where=news&sm=tab_pge&query=\"+keyword+\"&sort=0&photo=0&field=0&pd=3&ds=\"+target_date+\"&de=\"+target_date+\"&cluster_rank=51&mynews=0&office_type=0&office_section_code=0&news_office_checked=&nso=so:r,p:from20220310to20220310,a:all&start=\"+str(page)\n",
    "        print(\"생성url: \",url)\n",
    "        return url\n",
    "    else:\n",
    "        urls= []\n",
    "        for i in range(start_pg,end_pg+1):\n",
    "            try:\n",
    "                page = makePgNum(i)\n",
    "                url=\"https://search.naver.com/search.naver?where=news&sm=tab_pge&query=\"+keyword+\"&sort=0&photo=0&field=0&pd=3&ds=\"+target_date+\"&de=\"+target_date+\"&cluster_rank=51&mynews=0&office_type=0&office_section_code=0&news_office_checked=&nso=so:r,p:from20220310to20220310,a:all&start=\"+str(page)\n",
    "                urls.append(url)\n",
    "            except:\n",
    "                break\n",
    "        return urls"
   ]
  },
  {
   "cell_type": "code",
   "execution_count": 72,
   "metadata": {},
   "outputs": [],
   "source": [
    "target_day=datetime.datetime(2018,12,31)\n",
    "t_date=[]\n",
    "t_date2=[]\n",
    "#\n",
    "for i in range(730):\n",
    "    t1_date=target_day-datetime.timedelta(days=i)\n",
    "    t1_date=t1_date.strftime('%Y.%m.%d')\n",
    "    t_date.append(t1_date)\n",
    "\n",
    "    t2_date=target_day-datetime.timedelta(days=i)\n",
    "    t2_date=t2_date.strftime('%Y%m%d')\n",
    "    t_date2.append(t2_date)"
   ]
  },
  {
   "cell_type": "code",
   "execution_count": 73,
   "metadata": {},
   "outputs": [
    {
     "data": {
      "text/plain": [
       "datetime.datetime(2018, 12, 31, 0, 0)"
      ]
     },
     "execution_count": 73,
     "metadata": {},
     "output_type": "execute_result"
    }
   ],
   "source": [
    "target_day"
   ]
  },
  {
   "cell_type": "code",
   "execution_count": 74,
   "metadata": {},
   "outputs": [
    {
     "name": "stderr",
     "output_type": "stream",
     "text": [
      "C:\\Users\\jmkim\\anaconda3\\envs\\jam\\lib\\site-packages\\ipykernel_launcher.py:33: DeprecationWarning: use driver.switch_to.window instead\n"
     ]
    },
    {
     "name": "stdout",
     "output_type": "stream",
     "text": [
      "https://search.naver.com/search.naver?where=news&sm=tab_pge&query=%ED%83%84%EC%86%8C+%EC%A0%80%EC%9E%A5+%EC%95%88%EC%A0%84&sort=0&photo=0&field=0&pd=3&ds=2018.12.31&de=2018.12.31&cluster_rank=51&mynews=0&office_type=0&office_section_code=0&news_office_checked=&nso=so:r,p:from20220310to20220310,a:all&start=1\n"
     ]
    },
    {
     "name": "stderr",
     "output_type": "stream",
     "text": [
      "C:\\Users\\jmkim\\anaconda3\\envs\\jam\\lib\\site-packages\\ipykernel_launcher.py:48: DeprecationWarning: use driver.switch_to.window instead\n"
     ]
    },
    {
     "name": "stdout",
     "output_type": "stream",
     "text": [
      "https://www.mk.co.kr/\n",
      "https://news.naver.com/main/read.naver?mode=LSD&mid=sec&sid1=101&oid=009&aid=0004280722\n",
      "https://www.seoul.co.kr/\n",
      "https://news.naver.com/main/read.naver?mode=LSD&mid=sec&sid1=102&oid=081&aid=0002967186\n",
      "https://www.hankyung.com/\n",
      "https://news.naver.com/main/read.naver?mode=LSD&mid=sec&sid1=102&oid=015&aid=0004070770\n",
      "https://www.newspim.com/\n",
      "http://www.industrynews.co.kr/\n",
      "http://www.industrynews.co.kr/\n"
     ]
    }
   ],
   "source": [
    "keywords = ['탄소+저장+안전','탄소+지중+안전','탄소+지중+지진','탄소+포항+지진','탄소+시민','탄소+촉발+지진']\n",
    "naver_urls_0=[]\n",
    "naver_urls_1=[]\n",
    "naver_urls_2=[]\n",
    "naver_urls_3=[]\n",
    "naver_urls_4=[]\n",
    "naver_urls_5=[]\n",
    "\n",
    "for g in t_date:\n",
    "    for k,keyword in enumerate(keywords):\n",
    "        search_urls = makeUrl(keyword,1,3,g)\n",
    "        ## selenium으로 navernews만 뽑아오기##\n",
    "        driver = webdriver.Chrome('C://chromedriver.exe')\n",
    "        driver.implicitly_wait(3)\n",
    "        \n",
    "        # selenium으로 검색 페이지 불러오기 #\n",
    "        count = 0 # 핸들러 변수(창 바꿀때 사용)\n",
    "\n",
    "        for i in search_urls:\n",
    "            driver.get(i)\n",
    "            time.sleep(1) #대기시간 변경 가능\n",
    "\n",
    "            # 네이버 기사 눌러서 제목 및 본문 가져오기#\n",
    "            # 네이버 기사가 있는 기사 css selector 모아오기\n",
    "            a = driver.find_elements_by_css_selector('a.info')\n",
    "\n",
    "            # 위에서 생성한 css selector list 하나씩 클릭하여 본문 url얻기\n",
    "            for j in a:\n",
    "                count+=1\n",
    "                j.click()\n",
    "\n",
    "                # 현재탭에 접근\n",
    "                driver.switch_to_window(driver.window_handles[count-1])\n",
    "                time.sleep(5) #대기시간 변경 가능\n",
    "\n",
    "                # 네이버 뉴스 url만 가져오기\n",
    "\n",
    "                try:\n",
    "                    url = driver.current_url\n",
    "                    print(url)\n",
    "\n",
    "                    if \"news.naver.com\" in url:\n",
    "                        exec(f\"naver_urls_{k}.append(url)\")\n",
    "                    else:\n",
    "                        pass\n",
    "\n",
    "                    # 다시처음 탭으로 돌아가기(매우 중요!!!)\n",
    "                    driver.switch_to_window(driver.window_handles[0])\n",
    "                except:\n",
    "                    # 다시처음 탭으로 돌아가기(매우 중요!!!)\n",
    "                    driver.switch_to_window(driver.window_handles[0])\n",
    "                    pass\n",
    "        driver.quit()\n",
    "        time.sleep(1)\n",
    "    time.sleep(1)"
   ]
  },
  {
   "cell_type": "code",
   "execution_count": 71,
   "metadata": {},
   "outputs": [
    {
     "ename": "NameError",
     "evalue": "name 'naver_urls_5' is not defined",
     "output_type": "error",
     "traceback": [
      "\u001b[1;31m---------------------------------------------------------------------------\u001b[0m",
      "\u001b[1;31mNameError\u001b[0m                                 Traceback (most recent call last)",
      "\u001b[1;32m<ipython-input-71-1deede7fb603>\u001b[0m in \u001b[0;36m<module>\u001b[1;34m\u001b[0m\n\u001b[1;32m----> 1\u001b[1;33m \u001b[0mnaver_urls_5\u001b[0m\u001b[1;33m\u001b[0m\u001b[1;33m\u001b[0m\u001b[0m\n\u001b[0m",
      "\u001b[1;31mNameError\u001b[0m: name 'naver_urls_5' is not defined"
     ]
    }
   ],
   "source": [
    "naver_urls_5"
   ]
  },
  {
   "cell_type": "code",
   "execution_count": 59,
   "metadata": {},
   "outputs": [
    {
     "ename": "TypeError",
     "evalue": "cannot concatenate object of type '<class 'str'>'; only Series and DataFrame objs are valid",
     "output_type": "error",
     "traceback": [
      "\u001b[1;31m---------------------------------------------------------------------------\u001b[0m",
      "\u001b[1;31mTypeError\u001b[0m                                 Traceback (most recent call last)",
      "\u001b[1;32m<ipython-input-59-092f7711f253>\u001b[0m in \u001b[0;36m<module>\u001b[1;34m\u001b[0m\n\u001b[0;32m     27\u001b[0m         \u001b[0mpattern1\u001b[0m \u001b[1;33m=\u001b[0m \u001b[1;34m'<[^>]*>'\u001b[0m\u001b[1;33m\u001b[0m\u001b[1;33m\u001b[0m\u001b[0m\n\u001b[0;32m     28\u001b[0m         \u001b[0mtitle\u001b[0m \u001b[1;33m=\u001b[0m \u001b[0mre\u001b[0m\u001b[1;33m.\u001b[0m\u001b[0msub\u001b[0m\u001b[1;33m(\u001b[0m\u001b[0mpattern\u001b[0m\u001b[1;33m=\u001b[0m\u001b[0mpattern1\u001b[0m\u001b[1;33m,\u001b[0m\u001b[0mrepl\u001b[0m\u001b[1;33m=\u001b[0m\u001b[1;34m''\u001b[0m\u001b[1;33m,\u001b[0m\u001b[0mstring\u001b[0m\u001b[1;33m=\u001b[0m\u001b[0mtitle\u001b[0m\u001b[1;33m)\u001b[0m\u001b[1;33m\u001b[0m\u001b[1;33m\u001b[0m\u001b[0m\n\u001b[1;32m---> 29\u001b[1;33m         \u001b[0mtitles\u001b[0m\u001b[1;33m.\u001b[0m\u001b[0mappend\u001b[0m\u001b[1;33m(\u001b[0m\u001b[0mtitle\u001b[0m\u001b[1;33m)\u001b[0m\u001b[1;33m\u001b[0m\u001b[1;33m\u001b[0m\u001b[0m\n\u001b[0m\u001b[0;32m     30\u001b[0m \u001b[1;33m\u001b[0m\u001b[0m\n\u001b[0;32m     31\u001b[0m         \u001b[1;31m#뉴스 본문 가져오기\u001b[0m\u001b[1;33m\u001b[0m\u001b[1;33m\u001b[0m\u001b[1;33m\u001b[0m\u001b[0m\n",
      "\u001b[1;32m~\\anaconda3\\envs\\jam\\lib\\site-packages\\pandas\\core\\frame.py\u001b[0m in \u001b[0;36mappend\u001b[1;34m(self, other, ignore_index, verify_integrity, sort)\u001b[0m\n\u001b[0;32m   7749\u001b[0m             \u001b[0mignore_index\u001b[0m\u001b[1;33m=\u001b[0m\u001b[0mignore_index\u001b[0m\u001b[1;33m,\u001b[0m\u001b[1;33m\u001b[0m\u001b[1;33m\u001b[0m\u001b[0m\n\u001b[0;32m   7750\u001b[0m             \u001b[0mverify_integrity\u001b[0m\u001b[1;33m=\u001b[0m\u001b[0mverify_integrity\u001b[0m\u001b[1;33m,\u001b[0m\u001b[1;33m\u001b[0m\u001b[1;33m\u001b[0m\u001b[0m\n\u001b[1;32m-> 7751\u001b[1;33m             \u001b[0msort\u001b[0m\u001b[1;33m=\u001b[0m\u001b[0msort\u001b[0m\u001b[1;33m,\u001b[0m\u001b[1;33m\u001b[0m\u001b[1;33m\u001b[0m\u001b[0m\n\u001b[0m\u001b[0;32m   7752\u001b[0m         )\n\u001b[0;32m   7753\u001b[0m \u001b[1;33m\u001b[0m\u001b[0m\n",
      "\u001b[1;32m~\\anaconda3\\envs\\jam\\lib\\site-packages\\pandas\\core\\reshape\\concat.py\u001b[0m in \u001b[0;36mconcat\u001b[1;34m(objs, axis, join, ignore_index, keys, levels, names, verify_integrity, sort, copy)\u001b[0m\n\u001b[0;32m    282\u001b[0m         \u001b[0mverify_integrity\u001b[0m\u001b[1;33m=\u001b[0m\u001b[0mverify_integrity\u001b[0m\u001b[1;33m,\u001b[0m\u001b[1;33m\u001b[0m\u001b[1;33m\u001b[0m\u001b[0m\n\u001b[0;32m    283\u001b[0m         \u001b[0mcopy\u001b[0m\u001b[1;33m=\u001b[0m\u001b[0mcopy\u001b[0m\u001b[1;33m,\u001b[0m\u001b[1;33m\u001b[0m\u001b[1;33m\u001b[0m\u001b[0m\n\u001b[1;32m--> 284\u001b[1;33m         \u001b[0msort\u001b[0m\u001b[1;33m=\u001b[0m\u001b[0msort\u001b[0m\u001b[1;33m,\u001b[0m\u001b[1;33m\u001b[0m\u001b[1;33m\u001b[0m\u001b[0m\n\u001b[0m\u001b[0;32m    285\u001b[0m     )\n\u001b[0;32m    286\u001b[0m \u001b[1;33m\u001b[0m\u001b[0m\n",
      "\u001b[1;32m~\\anaconda3\\envs\\jam\\lib\\site-packages\\pandas\\core\\reshape\\concat.py\u001b[0m in \u001b[0;36m__init__\u001b[1;34m(self, objs, axis, join, keys, levels, names, ignore_index, verify_integrity, copy, sort)\u001b[0m\n\u001b[0;32m    357\u001b[0m                     \u001b[1;34m\"only Series and DataFrame objs are valid\"\u001b[0m\u001b[1;33m\u001b[0m\u001b[1;33m\u001b[0m\u001b[0m\n\u001b[0;32m    358\u001b[0m                 )\n\u001b[1;32m--> 359\u001b[1;33m                 \u001b[1;32mraise\u001b[0m \u001b[0mTypeError\u001b[0m\u001b[1;33m(\u001b[0m\u001b[0mmsg\u001b[0m\u001b[1;33m)\u001b[0m\u001b[1;33m\u001b[0m\u001b[1;33m\u001b[0m\u001b[0m\n\u001b[0m\u001b[0;32m    360\u001b[0m \u001b[1;33m\u001b[0m\u001b[0m\n\u001b[0;32m    361\u001b[0m             \u001b[1;31m# consolidate\u001b[0m\u001b[1;33m\u001b[0m\u001b[1;33m\u001b[0m\u001b[1;33m\u001b[0m\u001b[0m\n",
      "\u001b[1;31mTypeError\u001b[0m: cannot concatenate object of type '<class 'str'>'; only Series and DataFrame objs are valid"
     ]
    }
   ],
   "source": [
    "# ConnectionError방지\n",
    "headers = { \"User-Agent\": \"Mozilla/5.0 (Windows NT 10.0; Win64; x64) Chrome/98.0.4758.102\" }\n",
    "\n",
    "titles = []\n",
    "contents=[]\n",
    "dates=[]\n",
    "companys=[]\n",
    "pic_contents=[]\n",
    "\n",
    "#### naver_urls_0 ~ naver_urls_4 는 아래 filenames 키워드 순서대로 뉴스기사url 주소들이 들어있음\n",
    "#### 제법 오래 걸릴 수 있음\n",
    "filenames = ['탄소_저장_안전','탄소_지중_안전','탄소_지중_지진','탄소_포항_지진','탄소_시민','탄소_촉발_지진']\n",
    "naver_url_list = [naver_urls_0,naver_urls_1,naver_urls_2,naver_urls_3,naver_urls_4]\n",
    "\n",
    "for filename,naver_urls in zip(filenames,naver_url_list):\n",
    "    for i in naver_urls:\n",
    "        original_html = requests.get(i,headers=headers)\n",
    "        html = BeautifulSoup(original_html.text, \"html.parser\")\n",
    "        # 검색결과확인시\n",
    "        #print(html)\n",
    "        \n",
    "        #뉴스 제목 가져오기\n",
    "        title = html.select(\"div.content > div.article_header > div.article_info > h3\")\n",
    "        # list합치기\n",
    "        title = ''.join(str(title))\n",
    "        # html태그제거\n",
    "        pattern1 = '<[^>]*>'\n",
    "        title = re.sub(pattern=pattern1,repl='',string=title)\n",
    "        titles.append(title)\n",
    "\n",
    "        #뉴스 본문 가져오기\n",
    "\n",
    "        content = html.select(\"div.content > div#articleBody > div#articleBodyContents\")\n",
    "\n",
    "        # list합치기\n",
    "        content = ''.join(str(content))\n",
    "        \n",
    "        #html태그제거 및 텍스트 다듬기\n",
    "        content = re.sub(pattern=pattern1,repl='',string=content)\n",
    "        pattern2 = \"\"\"[\\n\\n\\n\\n\\n// flash 오류를 우회하기 위한 함수 추가\\nfunction _flash_removeCallback() {}\"\"\"\n",
    "        content = content.replace(pattern2,'')\n",
    "        content = re.sub(pattern=pattern1,repl='',string=content)\n",
    "        \n",
    "        # contents.append(content)\n",
    "\n",
    "        content=list([content])\n",
    "        contents.append(content)\n",
    "\n",
    "        # 뉴스 언론사 가져오기\n",
    "        company = html.find('img')['alt']\n",
    "        companys.append(company)\n",
    "\n",
    "\n",
    "        # 뉴스 날짜 가져오기\n",
    "        date = html.select(\"div.article_info > div.sponsor > span.t11\")\n",
    "        # list합치기\n",
    "        date = ''.join(str(date))\n",
    "        #html태그제거 및 텍스트 다듬기\n",
    "        # date = re.sub(pattern=pattern1,repl='',string=date)\n",
    "\n",
    "        dates.append(date)\n",
    "\n",
    "        # 뉴스 그림글 가져오기\n",
    "        pic_content = html.select(\"em.img_desc\")\n",
    "        # list합치기\n",
    "        pic_content = ''.join(str(pic_content))\n",
    "        #html태그제거 및 텍스트 다듬기\n",
    "        pic_content = re.sub(pattern=pattern1,repl='',string=pic_content)\n",
    "\n",
    "        pic_contents.append(pic_content)\n",
    "\n",
    "    titles=pd.DataFrame(titles)\n",
    "    contents=pd.DataFrame(contents)\n",
    "    pic_contents=pd.DataFrame(pic_contents)\n",
    "    companys=pd.DataFrame(companys)\n",
    "    dates=pd.DataFrame(dates)\n",
    "\n",
    "    news=pd.concat([titles,contents,pic_contents,companys,dates],axis=1)\n",
    "    news.columns=['기사제목','기사내용','그림글','언론사','기사날짜']\n",
    "    news.to_csv('./naver_news_{}.csv'.format(filename),index=False,encoding='utf-8-sig')      # 뉴스 엑셀로 저장"
   ]
  },
  {
   "cell_type": "code",
   "execution_count": 56,
   "metadata": {},
   "outputs": [
    {
     "data": {
      "text/plain": [
       "['[서울 코로나 확진 8만1997명…중환자 병상 가동률 63.3%]']"
      ]
     },
     "execution_count": 56,
     "metadata": {},
     "output_type": "execute_result"
    }
   ],
   "source": [
    "title='[서울 코로나 확진 8만1997명…중환자 병상 가동률 63.3%]'\n",
    "title=list([title])\n",
    "title"
   ]
  },
  {
   "cell_type": "code",
   "execution_count": 57,
   "metadata": {},
   "outputs": [
    {
     "data": {
      "text/html": [
       "<div>\n",
       "<style scoped>\n",
       "    .dataframe tbody tr th:only-of-type {\n",
       "        vertical-align: middle;\n",
       "    }\n",
       "\n",
       "    .dataframe tbody tr th {\n",
       "        vertical-align: top;\n",
       "    }\n",
       "\n",
       "    .dataframe thead th {\n",
       "        text-align: right;\n",
       "    }\n",
       "</style>\n",
       "<table border=\"1\" class=\"dataframe\">\n",
       "  <thead>\n",
       "    <tr style=\"text-align: right;\">\n",
       "      <th></th>\n",
       "      <th>0</th>\n",
       "    </tr>\n",
       "  </thead>\n",
       "  <tbody>\n",
       "    <tr>\n",
       "      <th>0</th>\n",
       "      <td>[도크 가득 채운 LNG선…칼바람에도 멈추지않는 용접불꽃]</td>\n",
       "    </tr>\n",
       "    <tr>\n",
       "      <th>1</th>\n",
       "      <td>[무엇이 김용균들을 죽음으로 내모나]</td>\n",
       "    </tr>\n",
       "    <tr>\n",
       "      <th>2</th>\n",
       "      <td>[[신년 기획] '눈물·분노·안타까운 죽음'…2018년 월별 사건사고 캘린더]</td>\n",
       "    </tr>\n",
       "    <tr>\n",
       "      <th>3</th>\n",
       "      <td>[[블록체인 2018] 블록체인 공공사업 2019년도 설명회 총정리]</td>\n",
       "    </tr>\n",
       "    <tr>\n",
       "      <th>4</th>\n",
       "      <td>[[기고] 사용후 핵연료에 대한 실체적 접근 필요]</td>\n",
       "    </tr>\n",
       "    <tr>\n",
       "      <th>...</th>\n",
       "      <td>...</td>\n",
       "    </tr>\n",
       "    <tr>\n",
       "      <th>85</th>\n",
       "      <td>[삼성전자 이산화탄소 누출사고 원인 \"소화설비 배선 오인 절단\" ]</td>\n",
       "    </tr>\n",
       "    <tr>\n",
       "      <th>86</th>\n",
       "      <td>[창원시 차세대 먹거리 수소 산업 육성에 박차 ]</td>\n",
       "    </tr>\n",
       "    <tr>\n",
       "      <th>87</th>\n",
       "      <td>[ 디지털 강소국 에스토니아 대통령 방한…“정부가 개인정보 안전 느낌 줘야” ]</td>\n",
       "    </tr>\n",
       "    <tr>\n",
       "      <th>88</th>\n",
       "      <td>[ [단독] 삼성, ‘CO₂ 누출 사망’ 소화설비 43개 사업장에 아직 그대로  ]</td>\n",
       "    </tr>\n",
       "    <tr>\n",
       "      <th>0</th>\n",
       "      <td>[서울 코로나 확진 8만1997명…중환자 병상 가동률 63.3%]</td>\n",
       "    </tr>\n",
       "  </tbody>\n",
       "</table>\n",
       "<p>90 rows × 1 columns</p>\n",
       "</div>"
      ],
      "text/plain": [
       "                                                 0\n",
       "0                 [도크 가득 채운 LNG선…칼바람에도 멈추지않는 용접불꽃]\n",
       "1                             [무엇이 김용균들을 죽음으로 내모나]\n",
       "2      [[신년 기획] '눈물·분노·안타까운 죽음'…2018년 월별 사건사고 캘린더]\n",
       "3           [[블록체인 2018] 블록체인 공공사업 2019년도 설명회 총정리]\n",
       "4                     [[기고] 사용후 핵연료에 대한 실체적 접근 필요]\n",
       "..                                             ...\n",
       "85           [삼성전자 이산화탄소 누출사고 원인 \"소화설비 배선 오인 절단\" ]\n",
       "86                     [창원시 차세대 먹거리 수소 산업 육성에 박차 ]\n",
       "87    [ 디지털 강소국 에스토니아 대통령 방한…“정부가 개인정보 안전 느낌 줘야” ]\n",
       "88  [ [단독] 삼성, ‘CO₂ 누출 사망’ 소화설비 43개 사업장에 아직 그대로  ]\n",
       "0             [서울 코로나 확진 8만1997명…중환자 병상 가동률 63.3%]\n",
       "\n",
       "[90 rows x 1 columns]"
      ]
     },
     "execution_count": 57,
     "metadata": {},
     "output_type": "execute_result"
    }
   ],
   "source": [
    "titles.append(title)"
   ]
  },
  {
   "cell_type": "code",
   "execution_count": 41,
   "metadata": {},
   "outputs": [
    {
     "data": {
      "text/plain": [
       "'[서울 코로나 확진 8만1997명…중환자 병상 가동률 63.3%]'"
      ]
     },
     "execution_count": 41,
     "metadata": {},
     "output_type": "execute_result"
    }
   ],
   "source": [
    "title"
   ]
  },
  {
   "cell_type": "code",
   "execution_count": 22,
   "metadata": {},
   "outputs": [],
   "source": [
    "a=[]\n",
    "a.append(title)"
   ]
  },
  {
   "cell_type": "code",
   "execution_count": 23,
   "metadata": {},
   "outputs": [
    {
     "data": {
      "text/plain": [
       "['[서울 코로나 확진 8만1997명…중환자 병상 가동률 63.3%]']"
      ]
     },
     "execution_count": 23,
     "metadata": {},
     "output_type": "execute_result"
    }
   ],
   "source": [
    "a.append(title)"
   ]
  },
  {
   "cell_type": "code",
   "execution_count": 67,
   "metadata": {},
   "outputs": [],
   "source": [
    "naver_urls_00=pd.DataFrame(naver_urls_0)\n",
    "naver_urls_01=pd.DataFrame(naver_urls_1)\n",
    "naver_urls_02=pd.DataFrame(naver_urls_2)\n",
    "naver_urls_03=pd.DataFrame(naver_urls_3)\n",
    "naver_urls_04=pd.DataFrame(naver_urls_4)\n",
    "\n",
    "naver_urls_00.to_csv('./urldata/naver_url_0.csv',encoding='utf-8-sig')\n",
    "naver_urls_01.to_csv('./urldata/naver_url_1.csv',encoding='utf-8-sig')\n",
    "naver_urls_02.to_csv('./urldata/naver_url_2.csv',encoding='utf-8-sig')\n",
    "naver_urls_03.to_csv('./urldata/naver_url_3.csv',encoding='utf-8-sig')\n",
    "naver_urls_04.to_csv('./urldata/naver_url_4.csv',encoding='utf-8-sig')"
   ]
  },
  {
   "cell_type": "code",
   "execution_count": null,
   "metadata": {},
   "outputs": [],
   "source": []
  }
 ],
 "metadata": {
  "interpreter": {
   "hash": "dca1037e83c4c737a4dc6b13d073cd6e4bc0fc3bcb360abcdf870ac7a015f0fe"
  },
  "kernelspec": {
   "display_name": "Python 3.6.13 ('jam')",
   "language": "python",
   "name": "python3"
  },
  "language_info": {
   "codemirror_mode": {
    "name": "ipython",
    "version": 3
   },
   "file_extension": ".py",
   "mimetype": "text/x-python",
   "name": "python",
   "nbconvert_exporter": "python",
   "pygments_lexer": "ipython3",
   "version": "3.6.13"
  },
  "orig_nbformat": 4
 },
 "nbformat": 4,
 "nbformat_minor": 2
}
